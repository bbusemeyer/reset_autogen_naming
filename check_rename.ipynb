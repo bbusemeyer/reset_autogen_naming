{
 "cells": [
  {
   "cell_type": "code",
   "execution_count": 20,
   "metadata": {
    "collapsed": true
   },
   "outputs": [],
   "source": [
    "from imp import reload\n",
    "import reset_naming as rn\n",
    "import os"
   ]
  },
  {
   "cell_type": "code",
   "execution_count": 36,
   "metadata": {
    "collapsed": false
   },
   "outputs": [
    {
     "name": "stdout",
     "output_type": "stream",
     "text": [
      "Old: qwt0.02tmoves_33.dmc.log.stdout\n",
      "New: qw_33_twobody_0.02_variance_tmoves.dmc.log.stdout\n",
      "Old: qwt0.02tmoves_9.dmc.log\n",
      "New: qw_9_twobody_0.02_variance_tmoves.dmc.log\n",
      "Old: qwt0.02tmoves_9.dmc.log_sk.out\n",
      "New: qw_9_twobody_0.02_variance_tmoves.dmc.log_sk.out\n",
      "Old: qwt0.02tmoves_26.dmc.config\n",
      "New: qw_26_twobody_0.02_variance_tmoves.dmc.config\n",
      "Old: qwt0.02tmoves_2.dmc.log_sk.out\n",
      "New: qw_2_twobody_0.02_variance_tmoves.dmc.log_sk.out\n",
      "Old: qwt0.02tmoves_35.dmc.log.stdout\n",
      "New: qw_35_twobody_0.02_variance_tmoves.dmc.log.stdout\n",
      "Old: qwt0.02tmoves_28.dmc\n",
      "New: qw_28_twobody_0.02_variance_tmoves.dmc\n",
      "Old: qw_26.dmc.trace\n",
      "New: qw_26_twobody_0.02_variance_tmoves.dmc.trace\n",
      "Old: qwt0.02tmoves_2.dmc.o\n",
      "New: qw_2_twobody_0.02_variance_tmoves.dmc.o\n",
      "Old: qwt0.02tmoves_33.dmc\n",
      "New: qw_33_twobody_0.02_variance_tmoves.dmc\n",
      "Old: qwt0.02tmoves_33.dmc.log_sk.out\n",
      "New: qw_33_twobody_0.02_variance_tmoves.dmc.log_sk.out\n",
      "Old: qwt0.02tmoves_0.dmc\n",
      "New: qw_0_twobody_0.02_variance_tmoves.dmc\n",
      "Old: qwt0.02tmoves_0.dmc.log.stdout\n",
      "New: qw_0_twobody_0.02_variance_tmoves.dmc.log.stdout\n",
      "Old: qw_28.dmc.trace\n",
      "New: qw_28_twobody_0.02_variance_tmoves.dmc.trace\n",
      "Old: qwt0.02tmoves_7.dmc.o\n",
      "New: qw_7_twobody_0.02_variance_tmoves.dmc.o\n",
      "Old: qwt0.02tmoves_2.dmc.config.backup\n",
      "New: qw_2_twobody_0.02_variance_tmoves.dmc.config.backup\n",
      "Old: qwt0.02tmoves_35.dmc\n",
      "New: qw_35_twobody_0.02_variance_tmoves.dmc\n",
      "Old: qwt0.02tmoves_7.dmc.log_sk.out\n",
      "New: qw_7_twobody_0.02_variance_tmoves.dmc.log_sk.out\n",
      "Old: qw_9.dmc.trace\n",
      "New: qw_9_twobody_0.02_variance_tmoves.dmc.trace\n",
      "Old: qwt0.02tmoves_9.dmc\n",
      "New: qw_9_twobody_0.02_variance_tmoves.dmc\n",
      "Old: qwt0.02tmoves_2.dmc.log\n",
      "New: qw_2_twobody_0.02_variance_tmoves.dmc.log\n",
      "Old: qwt0.02tmoves_28.dmc.log_sk.out\n",
      "New: qw_28_twobody_0.02_variance_tmoves.dmc.log_sk.out\n",
      "Old: qwt0.02tmoves_28.dmc.o\n",
      "New: qw_28_twobody_0.02_variance_tmoves.dmc.o\n",
      "Old: qwt0.02tmoves_35.dmc.config\n",
      "New: qw_35_twobody_0.02_variance_tmoves.dmc.config\n",
      "Old: qwt0.02tmoves_2.dmc.log.stdout\n",
      "New: qw_2_twobody_0.02_variance_tmoves.dmc.log.stdout\n",
      "Old: qwt0.02tmoves_35.dmc.log\n",
      "New: qw_35_twobody_0.02_variance_tmoves.dmc.log\n",
      "Old: qwt0.02tmoves_28.dmc.log\n",
      "New: qw_28_twobody_0.02_variance_tmoves.dmc.log\n",
      "Old: qwt0.02tmoves_35.dmc.log_sk.out\n",
      "New: qw_35_twobody_0.02_variance_tmoves.dmc.log_sk.out\n",
      "Old: qwt0.02tmoves_9.dmc.o\n",
      "New: qw_9_twobody_0.02_variance_tmoves.dmc.o\n",
      "Old: qwt0.02tmoves_26.dmc.o\n",
      "New: qw_26_twobody_0.02_variance_tmoves.dmc.o\n",
      "Old: qwt0.02tmoves_0.dmc.o\n",
      "New: qw_0_twobody_0.02_variance_tmoves.dmc.o\n",
      "Old: qw_35.dmc.trace\n",
      "New: qw_35_twobody_0.02_variance_tmoves.dmc.trace\n",
      "Old: qwt0.02tmoves_0.dmc.log\n",
      "New: qw_0_twobody_0.02_variance_tmoves.dmc.log\n",
      "Old: qwt0.02tmoves_28.dmc.config.backup\n",
      "New: qw_28_twobody_0.02_variance_tmoves.dmc.config.backup\n",
      "Old: qwt0.02tmoves_7.dmc.log\n",
      "New: qw_7_twobody_0.02_variance_tmoves.dmc.log\n",
      "Old: qwt0.02tmoves_33.dmc.config.backup\n",
      "New: qw_33_twobody_0.02_variance_tmoves.dmc.config.backup\n",
      "Old: qwt0.02tmoves_26.dmc.log\n",
      "New: qw_26_twobody_0.02_variance_tmoves.dmc.log\n",
      "Old: qw_2.dmc.trace\n",
      "New: qw_2_twobody_0.02_variance_tmoves.dmc.trace\n",
      "Old: qwt0.02tmoves_26.dmc.log_sk.out\n",
      "New: qw_26_twobody_0.02_variance_tmoves.dmc.log_sk.out\n",
      "Old: qwt0.02tmoves_9.dmc.log.stdout\n",
      "New: qw_9_twobody_0.02_variance_tmoves.dmc.log.stdout\n",
      "Old: qwt0.02tmoves_0.dmc.config\n",
      "New: qw_0_twobody_0.02_variance_tmoves.dmc.config\n",
      "Old: qwt0.02tmoves_7.dmc.config.backup\n",
      "New: qw_7_twobody_0.02_variance_tmoves.dmc.config.backup\n",
      "Old: qwt0.02tmoves_7.dmc.config\n",
      "New: qw_7_twobody_0.02_variance_tmoves.dmc.config\n",
      "Old: qwt0.02tmoves_28.dmc.log.stdout\n",
      "New: qw_28_twobody_0.02_variance_tmoves.dmc.log.stdout\n",
      "Old: qwt0.02tmoves_2.dmc.config\n",
      "New: qw_2_twobody_0.02_variance_tmoves.dmc.config\n",
      "Old: qwt0.02tmoves_35.dmc.config.backup\n",
      "New: qw_35_twobody_0.02_variance_tmoves.dmc.config.backup\n",
      "Old: qwt0.02tmoves_26.dmc\n",
      "New: qw_26_twobody_0.02_variance_tmoves.dmc\n",
      "Old: qwt0.02tmoves_9.dmc.config.backup\n",
      "New: qw_9_twobody_0.02_variance_tmoves.dmc.config.backup\n",
      "Old: qw_7.dmc.trace\n",
      "New: qw_7_twobody_0.02_variance_tmoves.dmc.trace\n",
      "Old: qwt0.02tmoves_0.dmc.log_sk.out\n",
      "New: qw_0_twobody_0.02_variance_tmoves.dmc.log_sk.out\n",
      "Old: qwt0.02tmoves_2.dmc\n",
      "New: qw_2_twobody_0.02_variance_tmoves.dmc\n",
      "Old: qwt0.02tmoves_28.dmc.config\n",
      "New: qw_28_twobody_0.02_variance_tmoves.dmc.config\n",
      "Old: qwt0.02tmoves_33.dmc.log\n",
      "New: qw_33_twobody_0.02_variance_tmoves.dmc.log\n",
      "Old: qwt0.02tmoves_0.dmc.config.backup\n",
      "New: qw_0_twobody_0.02_variance_tmoves.dmc.config.backup\n",
      "Old: qw_33.dmc.trace\n",
      "New: qw_33_twobody_0.02_variance_tmoves.dmc.trace\n",
      "Old: qwt0.02tmoves_35.dmc.o\n",
      "New: qw_35_twobody_0.02_variance_tmoves.dmc.o\n",
      "Old: qwt0.02tmoves_33.dmc.o\n",
      "New: qw_33_twobody_0.02_variance_tmoves.dmc.o\n",
      "Old: qwt0.02tmoves_26.dmc.config.backup\n",
      "New: qw_26_twobody_0.02_variance_tmoves.dmc.config.backup\n",
      "Old: qw_0.dmc.trace\n",
      "New: qw_0_twobody_0.02_variance_tmoves.dmc.trace\n",
      "Old: qwt0.02tmoves_7.dmc\n",
      "New: qw_7_twobody_0.02_variance_tmoves.dmc\n",
      "Old: qwt0.02tmoves_26.dmc.log.stdout\n",
      "New: qw_26_twobody_0.02_variance_tmoves.dmc.log.stdout\n",
      "Old: qwt0.02tmoves_9.dmc.config\n",
      "New: qw_9_twobody_0.02_variance_tmoves.dmc.config\n",
      "Old: qw.dmc.stdout\n",
      "Found no ints in this list.\n",
      "['qw']\n"
     ]
    },
    {
     "ename": "SystemExit",
     "evalue": "Unrecoverable error.",
     "output_type": "error",
     "traceback": [
      "An exception has occurred, use %tb to see the full traceback.\n",
      "\u001b[1;31mSystemExit\u001b[0m\u001b[1;31m:\u001b[0m Unrecoverable error.\n"
     ]
    },
    {
     "name": "stderr",
     "output_type": "stream",
     "text": [
      "To exit: use 'exit', 'quit', or Ctrl-D.\n"
     ]
    }
   ],
   "source": [
    "reload(rn)\n",
    "res = rn.reset_naming(\"fete_hybrid_461\")\n",
    "res"
   ]
  },
  {
   "cell_type": "code",
   "execution_count": 30,
   "metadata": {
    "collapsed": false
   },
   "outputs": [
    {
     "ename": "ValueError",
     "evalue": "invalid literal for int() with base 10: 'this'",
     "output_type": "error",
     "traceback": [
      "\u001b[1;31m---------------------------------------------------------------------------\u001b[0m",
      "\u001b[1;31mValueError\u001b[0m                                Traceback (most recent call last)",
      "\u001b[1;32m<ipython-input-30-ba2e813ecb53>\u001b[0m in \u001b[0;36m<module>\u001b[1;34m()\u001b[0m\n\u001b[1;32m----> 1\u001b[1;33m \u001b[0mint\u001b[0m\u001b[1;33m(\u001b[0m\u001b[1;34m\"this\"\u001b[0m\u001b[1;33m)\u001b[0m\u001b[1;33m\u001b[0m\u001b[0m\n\u001b[0m",
      "\u001b[1;31mValueError\u001b[0m: invalid literal for int() with base 10: 'this'"
     ]
    }
   ],
   "source": [
    "int(\"this\")"
   ]
  }
 ],
 "metadata": {
  "kernelspec": {
   "display_name": "Python 3",
   "language": "python",
   "name": "python3"
  },
  "language_info": {
   "codemirror_mode": {
    "name": "ipython",
    "version": 3
   },
   "file_extension": ".py",
   "mimetype": "text/x-python",
   "name": "python",
   "nbconvert_exporter": "python",
   "pygments_lexer": "ipython3",
   "version": "3.4.3"
  }
 },
 "nbformat": 4,
 "nbformat_minor": 0
}
